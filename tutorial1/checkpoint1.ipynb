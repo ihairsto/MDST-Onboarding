{
 "cells": [
  {
   "cell_type": "markdown",
   "metadata": {},
   "source": [
    "# Checkpoint 1 \n",
    "## (Do not remove any comments that start with\"# @@@\".) "
   ]
  },
  {
   "cell_type": "markdown",
   "metadata": {},
   "source": [
    "Reminder: \n",
    "\n",
    "- You are being evaluated for completion and effort in this checkpoint. \n",
    "- Avoid manual labor / hard coding as much as possible, everything we've taught you so far are meant to simplify and automate your process.\n",
    "- Please do not remove any comment that starts with: \"# @@@\". "
   ]
  },
  {
   "cell_type": "markdown",
   "metadata": {},
   "source": [
    "We will be working with the same `states_edu.csv` that you should already be familiar with from the tutorial.\n",
    "\n",
    "We investigated Grade 8 reading score in the tutorial. For this checkpoint, you are asked to investigate another test. Here's an overview:\n",
    "\n",
    "* Choose a specific response variable to focus on\n",
    ">Grade 4 Math, Grade 4 Reading, Grade 8 Math\n",
    "* Pick or create features to use\n",
    ">Will all the features be useful in predicting test score? Are some more important than others? Should you standardize, bin, or scale the data?\n",
    "* Explore the data as it relates to that test\n",
    ">Create at least 2 visualizations (graphs), each with a caption describing the graph and what it tells us about the data\n",
    "* Create training and testing data\n",
    ">Do you want to train on all the data? Only data from the last 10 years? Only Michigan data?\n",
    "* Train a ML model to predict outcome \n",
    ">Define what you want to predict, and pick a model in sklearn to use (see sklearn <a href=\"https://scikit-learn.org/stable/modules/linear_model.html\">regressors</a>).\n",
    "\n",
    "\n",
    "Include comments throughout your code! Every cleanup and preprocessing task should be documented.\n"
   ]
  },
  {
   "cell_type": "markdown",
   "metadata": {},
   "source": []
  },
  {
   "cell_type": "markdown",
   "metadata": {},
   "source": [
    "<h2> Data Cleanup </h2>\n",
    "\n",
    "Import `numpy`, `pandas`, and `matplotlib`.\n",
    "\n",
    "(Feel free to import other libraries!)"
   ]
  },
  {
   "cell_type": "code",
   "execution_count": null,
   "metadata": {},
   "outputs": [],
   "source": [
    "import numpy as np\n",
    "import pandas as pd\n",
    "import matplotlib.pyplot as plt"
   ]
  },
  {
   "cell_type": "markdown",
   "metadata": {},
   "source": [
    "Load in the \"states_edu.csv\" dataset and take a look at the head of the data"
   ]
  },
  {
   "cell_type": "code",
   "execution_count": null,
   "metadata": {},
   "outputs": [],
   "source": [
    "df = pd.read_csv(\"states_edu.csv\")"
   ]
  },
  {
   "cell_type": "markdown",
   "metadata": {},
   "source": [
    "You should always familiarize yourself with what each column in the dataframe represents. Read about the states_edu dataset here: https://www.kaggle.com/noriuk/us-education-datasets-unification-project"
   ]
  },
  {
   "cell_type": "markdown",
   "metadata": {},
   "source": [
    "Use this space to rename columns, deal with missing data, etc. _(optional)_"
   ]
  },
  {
   "cell_type": "code",
   "execution_count": null,
   "metadata": {},
   "outputs": [],
   "source": [
    "def pick_col(candidates):\n",
    "    for c in candidates:\n",
    "        if c in df.columns:\n",
    "            return c\n",
    "    raise KeyError(f\"None of expected columns found: {candidates}\\nHave: {list(df.columns)}\")\n",
    "\n",
    "STATE_COL = pick_col([\"STATE\", \"State\", \"state\"])\n",
    "YEAR_COL  = pick_col([\"YEAR\", \"Year\", \"year\"])"
   ]
  },
  {
   "cell_type": "markdown",
   "metadata": {},
   "source": [
    "<h2>Exploratory Data Analysis (EDA) </h2>"
   ]
  },
  {
   "cell_type": "markdown",
   "metadata": {},
   "source": [
    "Chosen one of Grade 4 Reading, Grade 4 Math, or Grade 8 Math to focus on: *ENTER YOUR CHOICE HERE*"
   ]
  },
  {
   "cell_type": "markdown",
   "metadata": {},
   "source": [
    "How many years of data are logged in our dataset? "
   ]
  },
  {
   "cell_type": "code",
   "execution_count": null,
   "metadata": {},
   "outputs": [],
   "source": [
    "# @@@ 1\n",
    "# Your Code\n",
    "num_years = df[YEAR_COL].nunique()\n",
    "print(\"Number of unique years:\", num_years)"
   ]
  },
  {
   "cell_type": "markdown",
   "metadata": {},
   "source": [
    "Let's compare Michigan to Ohio. Which state has the higher average across all years in the test you chose?"
   ]
  },
  {
   "cell_type": "code",
   "execution_count": null,
   "metadata": {},
   "outputs": [],
   "source": [
    "# @@@ 2\n",
    "mi_name_candidates = [\"MICHIGAN\", \"Michigan\", \"MI\"]\n",
    "oh_name_candidates = [\"OHIO\", \"Ohio\", \"OH\"]\n",
    "\n",
    "def pick_state_name(cands):\n",
    "    for s in cands:\n",
    "        if s in df[STATE_COL].unique():\n",
    "            return s\n",
    "    if \"STATE ABBREVIATION\" in df.columns:\n",
    "        for s in cands:\n",
    "            if s in df[\"STATE ABBREVIATION\"].unique():\n",
    "                st = df.loc[df[\"STATE ABBREVIATION\"] == s, STATE_COL].iloc[0]\n",
    "                return st\n",
    "    raise ValueError(f\"None of {cands} found in {STATE_COL}\")\n",
    "\n",
    "MI = pick_state_name(mi_name_candidates)\n",
    "OH = pick_state_name(oh_name_candidates)\n",
    "\n",
    "avg_mi = df.loc[df[STATE_COL] == MI, TARGET_COL].mean(skipna=True)\n",
    "avg_oh = df.loc[df[STATE_COL] == OH, TARGET_COL].mean(skipna=True)\n",
    "higher_state = MI if avg_mi > avg_oh else OH\n",
    "print(f\"Average {TARGET_COL} — {MI}: {avg_mi:.2f}, {OH}: {avg_oh:.2f}. Higher: {higher_state}\")"
   ]
  },
  {
   "cell_type": "markdown",
   "metadata": {},
   "source": [
    "Find the average for your chosen test across all states in 2019"
   ]
  },
  {
   "cell_type": "code",
   "execution_count": null,
   "metadata": {},
   "outputs": [],
   "source": [
    "# @@@ 3\n",
    "avg_2019 = df.loc[df[YEAR_COL] == 2019, TARGET_COL].mean(skipna=True)\n",
    "print(f\"Average {TARGET_COL} across all states in 2019:\", avg_2019)"
   ]
  },
  {
   "cell_type": "markdown",
   "metadata": {},
   "source": [
    "For each state, find a maximum value for your chosen test score"
   ]
  },
  {
   "cell_type": "code",
   "execution_count": null,
   "metadata": {},
   "outputs": [],
   "source": [
    "# @@@ 4\n",
    "state_max = df.groupby(STATE_COL, dropna=False)[TARGET_COL].max()\n",
    "print(\"Per-state max of target (head):\")\n",
    "print(state_max.sort_values(ascending=False).head(10))"
   ]
  },
  {
   "cell_type": "markdown",
   "metadata": {},
   "source": [
    "*Refer to the `Grouping and Aggregating` section in Tutorial 0 if you are stuck."
   ]
  },
  {
   "cell_type": "markdown",
   "metadata": {},
   "source": [
    "<h2> Feature Engineering </h2>\n",
    "\n",
    "After exploring the data, you can choose to modify features that you would use to predict the performance of the students on your chosen response variable. \n",
    "\n",
    "You can also create your own features. For example, perhaps you figured that maybe a state's expenditure per student may affect their overall academic performance so you create a expenditure_per_student feature.\n",
    "\n",
    "Use this space to modify or create features."
   ]
  },
  {
   "cell_type": "code",
   "execution_count": null,
   "metadata": {},
   "outputs": [],
   "source": [
    "# @@@ 5\n",
    "ENROLL_COL = None\n",
    "for cand in [\"ENROLL\", \"ENROLLMENT\", \"GRADES_ALL_G\"]:\n",
    "    if cand in df.columns:\n",
    "        ENROLL_COL = cand\n",
    "        break\n",
    "\n",
    "TOT_EXP_COL = None\n",
    "for cand in [\"TOTAL_EXPENDITURE\", \"TOTAL EXPENDITURE\", \"EXPENDITURE_TOTAL\"]:\n",
    "    if cand in df.columns:\n",
    "        TOT_EXP_COL = cand\n",
    "        break\n",
    "\n",
    "PTR_COL = None\n",
    "for cand in [\"PUPIL_TEACHER_RATIO\", \"Pupil-Teacher Ratio\", \"AVG_RATIO\"]:\n",
    "    if cand in df.columns:\n",
    "        PTR_COL = cand\n",
    "        break\n",
    "\n",
    "TOT_REV_COL = None\n",
    "for cand in [\"TOTAL_REVENUE\", \"TOTAL REVENUE\", \"REVENUE_TOTAL\"]:\n",
    "    if cand in df.columns:\n",
    "        TOT_REV_COL = cand\n",
    "        break\n",
    "\n",
    "READ8_COL = None\n",
    "for cand in [\"NAEP_READING_8_SCORE\", \"AVG_READING_8_SCORE\", \"Grade 8 Reading\"]:\n",
    "    if cand in df.columns:\n",
    "        READ8_COL = cand\n",
    "        break\n",
    "\n",
    "# Create engineered features where possible\n",
    "if ENROLL_COL and TOT_EXP_COL:\n",
    "    df[\"EXPENDITURE_PER_STUDENT\"] = pd.to_numeric(df[TOT_EXP_COL], errors=\"coerce\") / pd.to_numeric(df[ENROLL_COL], errors=\"coerce\")\n",
    "\n",
    "if ENROLL_COL and TOT_REV_COL:\n",
    "    df[\"REVENUE_PER_STUDENT\"] = pd.to_numeric(df[TOT_REV_COL], errors=\"coerce\") / pd.to_numeric(df[ENROLL_COL], errors=\"coerce\")\n"
   ]
  },
  {
   "cell_type": "markdown",
   "metadata": {},
   "source": [
    "Feature engineering justification: **<BRIEFLY DESCRIBE WHY YOU MADE THE CHANGES THAT YOU DID\\>**"
   ]
  },
  {
   "cell_type": "markdown",
   "metadata": {},
   "source": [
    "<h2>Visualization</h2>\n",
    "\n",
    "Investigate the relationship between your chosen response variable and at least two predictors using visualizations. Write down your observations.\n",
    "\n",
    "**Visualization 1**"
   ]
  },
  {
   "cell_type": "code",
   "execution_count": null,
   "metadata": {},
   "outputs": [],
   "source": [
    "# @@@ 6\n",
    "plot_df = df.loc[df[STATE_COL].isin([MI, OH]), [STATE_COL, YEAR_COL, TARGET_COL]].dropna()\n",
    "plt.figure(figsize=(10,5))\n",
    "for st in [MI, OH]:\n",
    "    sub = plot_df[plot_df[STATE_COL] == st].sort_values(YEAR_COL)\n",
    "    plt.plot(sub[YEAR_COL], sub[TARGET_COL], marker=\"o\", label=st)\n",
    "plt.title(f\"{TARGET_COL} over time: {MI} vs {OH}\")\n",
    "plt.xlabel(\"Year\")\n",
    "plt.ylabel(TARGET_COL)\n",
    "plt.legend()\n",
    "plt.grid(True)\n",
    "plt.show()\n",
    "\n",
    "# Michigan and Ohio show similar long-term trajectories in Grade 8 Math; the line plot highlights year-to-year fluctuations and whether one state consistently outperforms the other.\n"
   ]
  },
  {
   "cell_type": "markdown",
   "metadata": {},
   "source": [
    "**<CAPTION FOR VIZ 1>**"
   ]
  },
  {
   "cell_type": "markdown",
   "metadata": {},
   "source": [
    "**Visualization 2**"
   ]
  },
  {
   "cell_type": "code",
   "execution_count": null,
   "metadata": {},
   "outputs": [],
   "source": [
    "# @@@ 7\n",
    "viz_cols = [TARGET_COL, YEAR_COL, STATE_COL, \"EXPENDITURE_PER_STUDENT\"]\n",
    "scat = df.dropna(subset=[c for c in viz_cols if c in df.columns]).copy()\n",
    "if YEAR_COL in scat.columns:\n",
    "    latest_year = scat[YEAR_COL].max()\n",
    "    scat = scat[scat[YEAR_COL] == latest_year]\n",
    "\n",
    "plt.figure(figsize=(8,6))\n",
    "if \"EXPENDITURE_PER_STUDENT\" in scat.columns and not scat.empty:\n",
    "    plt.scatter(scat[\"EXPENDITURE_PER_STUDENT\"], scat[TARGET_COL], alpha=0.7)\n",
    "    plt.xlabel(\"Expenditure per student\")\n",
    "    plt.ylabel(TARGET_COL)\n",
    "    plt.title(f\"{TARGET_COL} vs Expenditure per student (Year {int(latest_year) if len(scat) else ''})\")\n",
    "    plt.grid(True)\n",
    "    plt.show()\n",
    "else:\n",
    "    print(\"EXPENDITURE_PER_STUDENT not available for scatter; skipping plot.\")\n",
    "\n",
    "\n",
    "# States with higher per-student spending tend to cluster toward higher Grade 8 Math scores, though the relationship is noisy—suggesting other factors also matter.\n"
   ]
  },
  {
   "cell_type": "markdown",
   "metadata": {},
   "source": [
    "**<CAPTION FOR VIZ 2>**"
   ]
  },
  {
   "cell_type": "markdown",
   "metadata": {},
   "source": [
    "<h2> Data Creation </h2>\n",
    "\n",
    "_Use this space to create train/test data_"
   ]
  },
  {
   "cell_type": "code",
   "execution_count": null,
   "metadata": {},
   "outputs": [],
   "source": [
    "from sklearn.model_selection import train_test_split"
   ]
  },
  {
   "cell_type": "code",
   "execution_count": null,
   "metadata": {},
   "outputs": [],
   "source": [
    "# @@@ 8\n",
    "\n",
    "X  = df_model[features].copy()\n",
    "y = df_model[TARGET_COL].astype(float)"
   ]
  },
  {
   "cell_type": "code",
   "execution_count": null,
   "metadata": {},
   "outputs": [],
   "source": [
    "# @@@ 9 \n",
    "\n",
    "# X_train, X_test, y_train, y_test = train_test_split(\n",
    "#      X, y, test_size=, random_state=42)"
   ]
  },
  {
   "cell_type": "markdown",
   "metadata": {},
   "source": [
    "<h2> Prediction </h2>"
   ]
  },
  {
   "cell_type": "markdown",
   "metadata": {},
   "source": [
    "ML Models [Resource](https://medium.com/@vijaya.beeravalli/comparison-of-machine-learning-classification-models-for-credit-card-default-data-c3cf805c9a5a)"
   ]
  },
  {
   "cell_type": "code",
   "execution_count": null,
   "metadata": {},
   "outputs": [],
   "source": [
    "# @@@ 10\n",
    "# import your sklearn class here\n",
    "# ????????????????\n"
   ]
  },
  {
   "cell_type": "code",
   "execution_count": null,
   "metadata": {},
   "outputs": [],
   "source": [
    "# @@@ 11\n",
    "# create your model here\n",
    "model = Pipeline(steps=[\n",
    "    (\"imputer\", SimpleImputer(strategy=\"median\")),\n",
    "    (\"scaler\", StandardScaler()),\n",
    "    (\"reg\", LinearRegression())\n",
    "])\n",
    "\n",
    "model.fit(X_train, y_train)\n",
    "y_pred = model.predict(X_test)"
   ]
  },
  {
   "cell_type": "code",
   "execution_count": null,
   "metadata": {},
   "outputs": [],
   "source": [
    "model.fit(X_train, y_train)"
   ]
  },
  {
   "cell_type": "code",
   "execution_count": null,
   "metadata": {},
   "outputs": [],
   "source": [
    "y_pred = model.predict(X_test)"
   ]
  },
  {
   "cell_type": "markdown",
   "metadata": {},
   "source": [
    "## Evaluation"
   ]
  },
  {
   "cell_type": "markdown",
   "metadata": {},
   "source": [
    "Choose some metrics to evaluate the performance of your model, some of them are mentioned in the tutorial."
   ]
  },
  {
   "cell_type": "code",
   "execution_count": null,
   "metadata": {},
   "outputs": [],
   "source": [
    "# @@@ 12\n",
    "mae = mean_absolute_error(y_test, y_pred)\n",
    "r2  = r2_score(y_test, y_pred)\n",
    "print(f\"Test MAE: {mae:.2f}\")\n",
    "print(f\"Test R^2: {r2:.3f}\")"
   ]
  },
  {
   "cell_type": "markdown",
   "metadata": {},
   "source": [
    "We have copied over the graphs that visualize the model's performance on the training and testing set. \n",
    "\n",
    "Change `col_name` and modify the call to `plt.ylabel()` to isolate how a single predictor affects the model."
   ]
  },
  {
   "cell_type": "code",
   "execution_count": null,
   "metadata": {},
   "outputs": [],
   "source": [
    "# @@@ 13\n",
    "\n",
    "col_name = features[0] if features else None\n",
    "print(\"Plotting predictor:\", col_name)\n",
    "\n",
    "if col_name:\n",
    "    f = plt.figure(figsize=(12,6))\n",
    "    plt.scatter(X_train[col_name], y_train, color = \"red\")\n",
    "    plt.scatter(X_train[col_name], model.predict(X_train), color = \"green\")\n",
    "\n",
    "    plt.legend(['True Training','Predicted Training'])\n",
    "    plt.xlabel(col_name)\n",
    "    plt.ylabel(TARGET_COL)\n",
    "    plt.title(\"Model Behavior On Training Set\")\n",
    "    plt.show()"
   ]
  },
  {
   "cell_type": "code",
   "execution_count": null,
   "metadata": {},
   "outputs": [],
   "source": [
    "# @@@ 14\n",
    "\n",
    "if col_name:\n",
    "    f = plt.figure(figsize=(12,6))\n",
    "    plt.scatter(X_test[col_name], y_test, color = \"blue\")\n",
    "    plt.scatter(X_test[col_name], model.predict(X_test), color = \"black\")\n",
    "\n",
    "    plt.legend(['True testing','Predicted testing'])\n",
    "    plt.xlabel(col_name)\n",
    "    plt.ylabel(TARGET_COL)\n",
    "    plt.title(\"Model Behavior on Testing Set\")\n",
    "    plt.show()\n"
   ]
  }
 ],
 "metadata": {
  "kernelspec": {
   "display_name": "Python 3.9.0 64-bit",
   "language": "python",
   "name": "python3"
  },
  "language_info": {
   "codemirror_mode": {
    "name": "ipython",
    "version": 3
   },
   "file_extension": ".py",
   "mimetype": "text/x-python",
   "name": "python",
   "nbconvert_exporter": "python",
   "pygments_lexer": "ipython3",
   "version": "3.9.0"
  },
  "vscode": {
   "interpreter": {
    "hash": "6cf8df3ff69f85f626faf55c10df6fe2cb9d1236b4dc73844ee4dc01369c2c99"
   }
  }
 },
 "nbformat": 4,
 "nbformat_minor": 4
}
